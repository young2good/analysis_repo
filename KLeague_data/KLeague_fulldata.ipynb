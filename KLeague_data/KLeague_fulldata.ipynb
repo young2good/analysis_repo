{
 "cells": [
  {
   "cell_type": "code",
   "execution_count": 29,
   "metadata": {},
   "outputs": [],
   "source": [
    "import pandas as pd\n",
    "import altair as alt\n",
    "import pickle"
   ]
  },
  {
   "cell_type": "code",
   "execution_count": 30,
   "metadata": {},
   "outputs": [],
   "source": [
    "# full_data = pd.read_clipboard()"
   ]
  },
  {
   "cell_type": "code",
   "execution_count": 31,
   "metadata": {},
   "outputs": [],
   "source": [
    "with open('full_data.pickle', 'wb') as f:\n",
    "    pickle.dump(full_data, f)"
   ]
  },
  {
   "cell_type": "code",
   "execution_count": 32,
   "metadata": {},
   "outputs": [],
   "source": [
    "full_data = pd.read_pickle('full_data.pickle')"
   ]
  },
  {
   "cell_type": "code",
   "execution_count": 33,
   "metadata": {},
   "outputs": [
    {
     "data": {
      "text/plain": [
       "Index(['년도', '구단', '득점', '도움', '슈팅', '유효 슈팅', '블락된슈팅', '벗어난슈팅', 'PA내 슈팅',\n",
       "       'PA외 슈팅', '프리킥 슈팅', '프리킥 유효슈팅', '프리킥 크로스 시도', '프리킥 크로스 성공',\n",
       "       '프리킥 크로스 성공%', '오프사이드', '코너킥', '스로인', '드리블 시도', '드리블 성공', '드리블 성공%',\n",
       "       '패스 시도', '패스 성공', '패스 성공%', '키패스', '전방패스 시도', '전방패스 성공', '전방패스 성공%',\n",
       "       '후방패스 시도', '후방패스 성공', '후방패스 성공%', '횡패스 시도', '횡패스 성공', '횡패스 성공%',\n",
       "       '공격진영 패스 시도', '공격진영 패스 성공', '공격진영 패스 성공%', '수비진영 패스 시도', '수비진영 패스 성공',\n",
       "       '수비진영 패스 성공%', '중앙진영 패스 시도', '중앙진영 패스 성공', '중앙진영 패스 성공%', '롱패스 시도',\n",
       "       '롱패스 성공', '롱패스 성공%', '중거리패스 시도', '중거리패스 성공', '중거리패스 성공%', '단거리패스 시도',\n",
       "       '단거리패스 성공', '단거리패스 성공%', '크로스 시도', '크로스 성공', '크로스 성공%', '경합 지상 시도',\n",
       "       '경합 지상 성공', '경합 지상 성공%', '경합 공중 시도', '경합 공중 성공', '경합 공중 성공%', '태클 시도',\n",
       "       '태클 성공', '태클 성공%', '클리어링', '인터셉트', '차단', '획득', '블락', '볼미스', '파울', '피파울',\n",
       "       '경고', '퇴장'],\n",
       "      dtype='object')"
      ]
     },
     "execution_count": 33,
     "metadata": {},
     "output_type": "execute_result"
    }
   ],
   "source": [
    "full_data.columns"
   ]
  },
  {
   "cell_type": "code",
   "execution_count": 35,
   "metadata": {},
   "outputs": [],
   "source": [
    "aerial = full_data[['구단', '경합 공중 시도', '경합 공중 성공', '경합 공중 성공%']]"
   ]
  },
  {
   "cell_type": "code",
   "execution_count": 36,
   "metadata": {},
   "outputs": [
    {
     "name": "stderr",
     "output_type": "stream",
     "text": [
      "C:\\Users\\romidaonnie\\AppData\\Local\\Temp\\ipykernel_6212\\2653280563.py:1: SettingWithCopyWarning: \n",
      "A value is trying to be set on a copy of a slice from a DataFrame.\n",
      "Try using .loc[row_indexer,col_indexer] = value instead\n",
      "\n",
      "See the caveats in the documentation: https://pandas.pydata.org/pandas-docs/stable/user_guide/indexing.html#returning-a-view-versus-a-copy\n",
      "  aerial['경합 공중 시도'] = pd.to_numeric(aerial['경합 공중 시도'])\n"
     ]
    }
   ],
   "source": [
    "aerial['경합 공중 시도'] = pd.to_numeric(aerial['경합 공중 시도'])"
   ]
  },
  {
   "cell_type": "code",
   "execution_count": 37,
   "metadata": {},
   "outputs": [
    {
     "name": "stderr",
     "output_type": "stream",
     "text": [
      "C:\\Users\\romidaonnie\\AppData\\Local\\Temp\\ipykernel_6212\\1033053731.py:1: SettingWithCopyWarning: \n",
      "A value is trying to be set on a copy of a slice from a DataFrame.\n",
      "Try using .loc[row_indexer,col_indexer] = value instead\n",
      "\n",
      "See the caveats in the documentation: https://pandas.pydata.org/pandas-docs/stable/user_guide/indexing.html#returning-a-view-versus-a-copy\n",
      "  aerial['match'] = 33\n",
      "C:\\Users\\romidaonnie\\AppData\\Local\\Temp\\ipykernel_6212\\1033053731.py:2: SettingWithCopyWarning: \n",
      "A value is trying to be set on a copy of a slice from a DataFrame.\n",
      "Try using .loc[row_indexer,col_indexer] = value instead\n",
      "\n",
      "See the caveats in the documentation: https://pandas.pydata.org/pandas-docs/stable/user_guide/indexing.html#returning-a-view-versus-a-copy\n",
      "  aerial['header_per_match'] = aerial['경합 공중 시도'] / aerial['match']\n"
     ]
    },
    {
     "data": {
      "text/html": [
       "<div>\n",
       "<style scoped>\n",
       "    .dataframe tbody tr th:only-of-type {\n",
       "        vertical-align: middle;\n",
       "    }\n",
       "\n",
       "    .dataframe tbody tr th {\n",
       "        vertical-align: top;\n",
       "    }\n",
       "\n",
       "    .dataframe thead th {\n",
       "        text-align: right;\n",
       "    }\n",
       "</style>\n",
       "<table border=\"1\" class=\"dataframe\">\n",
       "  <thead>\n",
       "    <tr style=\"text-align: right;\">\n",
       "      <th></th>\n",
       "      <th>구단</th>\n",
       "      <th>경합 공중 시도</th>\n",
       "      <th>경합 공중 성공</th>\n",
       "      <th>경합 공중 성공%</th>\n",
       "      <th>match</th>\n",
       "      <th>header_per_match</th>\n",
       "    </tr>\n",
       "  </thead>\n",
       "  <tbody>\n",
       "    <tr>\n",
       "      <th>0</th>\n",
       "      <td>강원</td>\n",
       "      <td>961</td>\n",
       "      <td>500</td>\n",
       "      <td>52.0</td>\n",
       "      <td>33</td>\n",
       "      <td>29.121212</td>\n",
       "    </tr>\n",
       "    <tr>\n",
       "      <th>1</th>\n",
       "      <td>광주</td>\n",
       "      <td>938</td>\n",
       "      <td>488</td>\n",
       "      <td>52.0</td>\n",
       "      <td>33</td>\n",
       "      <td>28.424242</td>\n",
       "    </tr>\n",
       "    <tr>\n",
       "      <th>2</th>\n",
       "      <td>김천</td>\n",
       "      <td>1112</td>\n",
       "      <td>496</td>\n",
       "      <td>44.6</td>\n",
       "      <td>33</td>\n",
       "      <td>33.696970</td>\n",
       "    </tr>\n",
       "    <tr>\n",
       "      <th>3</th>\n",
       "      <td>대구</td>\n",
       "      <td>1075</td>\n",
       "      <td>559</td>\n",
       "      <td>52.0</td>\n",
       "      <td>33</td>\n",
       "      <td>32.575758</td>\n",
       "    </tr>\n",
       "    <tr>\n",
       "      <th>4</th>\n",
       "      <td>대전</td>\n",
       "      <td>1278</td>\n",
       "      <td>618</td>\n",
       "      <td>48.4</td>\n",
       "      <td>33</td>\n",
       "      <td>38.727273</td>\n",
       "    </tr>\n",
       "    <tr>\n",
       "      <th>5</th>\n",
       "      <td>서울</td>\n",
       "      <td>1045</td>\n",
       "      <td>520</td>\n",
       "      <td>49.8</td>\n",
       "      <td>33</td>\n",
       "      <td>31.666667</td>\n",
       "    </tr>\n",
       "    <tr>\n",
       "      <th>6</th>\n",
       "      <td>수원FC</td>\n",
       "      <td>992</td>\n",
       "      <td>499</td>\n",
       "      <td>50.3</td>\n",
       "      <td>33</td>\n",
       "      <td>30.060606</td>\n",
       "    </tr>\n",
       "    <tr>\n",
       "      <th>7</th>\n",
       "      <td>울산</td>\n",
       "      <td>1008</td>\n",
       "      <td>489</td>\n",
       "      <td>48.5</td>\n",
       "      <td>33</td>\n",
       "      <td>30.545455</td>\n",
       "    </tr>\n",
       "    <tr>\n",
       "      <th>8</th>\n",
       "      <td>인천</td>\n",
       "      <td>1054</td>\n",
       "      <td>553</td>\n",
       "      <td>52.5</td>\n",
       "      <td>33</td>\n",
       "      <td>31.939394</td>\n",
       "    </tr>\n",
       "    <tr>\n",
       "      <th>9</th>\n",
       "      <td>전북</td>\n",
       "      <td>1055</td>\n",
       "      <td>527</td>\n",
       "      <td>50.0</td>\n",
       "      <td>33</td>\n",
       "      <td>31.969697</td>\n",
       "    </tr>\n",
       "    <tr>\n",
       "      <th>10</th>\n",
       "      <td>제주</td>\n",
       "      <td>1269</td>\n",
       "      <td>630</td>\n",
       "      <td>49.6</td>\n",
       "      <td>33</td>\n",
       "      <td>38.454545</td>\n",
       "    </tr>\n",
       "    <tr>\n",
       "      <th>11</th>\n",
       "      <td>포항</td>\n",
       "      <td>1007</td>\n",
       "      <td>518</td>\n",
       "      <td>51.4</td>\n",
       "      <td>33</td>\n",
       "      <td>30.515152</td>\n",
       "    </tr>\n",
       "  </tbody>\n",
       "</table>\n",
       "</div>"
      ],
      "text/plain": [
       "      구단  경합 공중 시도  경합 공중 성공  경합 공중 성공%  match  header_per_match\n",
       "0     강원       961       500       52.0     33         29.121212\n",
       "1     광주       938       488       52.0     33         28.424242\n",
       "2     김천      1112       496       44.6     33         33.696970\n",
       "3     대구      1075       559       52.0     33         32.575758\n",
       "4     대전      1278       618       48.4     33         38.727273\n",
       "5     서울      1045       520       49.8     33         31.666667\n",
       "6   수원FC       992       499       50.3     33         30.060606\n",
       "7     울산      1008       489       48.5     33         30.545455\n",
       "8     인천      1054       553       52.5     33         31.939394\n",
       "9     전북      1055       527       50.0     33         31.969697\n",
       "10    제주      1269       630       49.6     33         38.454545\n",
       "11    포항      1007       518       51.4     33         30.515152"
      ]
     },
     "execution_count": 37,
     "metadata": {},
     "output_type": "execute_result"
    }
   ],
   "source": [
    "aerial['match'] = 33\n",
    "aerial['header_per_match'] = aerial['경합 공중 시도'] / aerial['match']\n",
    "aerial"
   ]
  },
  {
   "cell_type": "code",
   "execution_count": 44,
   "metadata": {},
   "outputs": [
    {
     "data": {
      "text/html": [
       "\n",
       "<style>\n",
       "  #altair-viz-a4b80685e120449c9af81d17b53b6745.vega-embed {\n",
       "    width: 100%;\n",
       "    display: flex;\n",
       "  }\n",
       "\n",
       "  #altair-viz-a4b80685e120449c9af81d17b53b6745.vega-embed details,\n",
       "  #altair-viz-a4b80685e120449c9af81d17b53b6745.vega-embed details summary {\n",
       "    position: relative;\n",
       "  }\n",
       "</style>\n",
       "<div id=\"altair-viz-a4b80685e120449c9af81d17b53b6745\"></div>\n",
       "<script type=\"text/javascript\">\n",
       "  var VEGA_DEBUG = (typeof VEGA_DEBUG == \"undefined\") ? {} : VEGA_DEBUG;\n",
       "  (function(spec, embedOpt){\n",
       "    let outputDiv = document.currentScript.previousElementSibling;\n",
       "    if (outputDiv.id !== \"altair-viz-a4b80685e120449c9af81d17b53b6745\") {\n",
       "      outputDiv = document.getElementById(\"altair-viz-a4b80685e120449c9af81d17b53b6745\");\n",
       "    }\n",
       "    const paths = {\n",
       "      \"vega\": \"https://cdn.jsdelivr.net/npm/vega@5?noext\",\n",
       "      \"vega-lib\": \"https://cdn.jsdelivr.net/npm/vega-lib?noext\",\n",
       "      \"vega-lite\": \"https://cdn.jsdelivr.net/npm/vega-lite@5.20.1?noext\",\n",
       "      \"vega-embed\": \"https://cdn.jsdelivr.net/npm/vega-embed@6?noext\",\n",
       "    };\n",
       "\n",
       "    function maybeLoadScript(lib, version) {\n",
       "      var key = `${lib.replace(\"-\", \"\")}_version`;\n",
       "      return (VEGA_DEBUG[key] == version) ?\n",
       "        Promise.resolve(paths[lib]) :\n",
       "        new Promise(function(resolve, reject) {\n",
       "          var s = document.createElement('script');\n",
       "          document.getElementsByTagName(\"head\")[0].appendChild(s);\n",
       "          s.async = true;\n",
       "          s.onload = () => {\n",
       "            VEGA_DEBUG[key] = version;\n",
       "            return resolve(paths[lib]);\n",
       "          };\n",
       "          s.onerror = () => reject(`Error loading script: ${paths[lib]}`);\n",
       "          s.src = paths[lib];\n",
       "        });\n",
       "    }\n",
       "\n",
       "    function showError(err) {\n",
       "      outputDiv.innerHTML = `<div class=\"error\" style=\"color:red;\">${err}</div>`;\n",
       "      throw err;\n",
       "    }\n",
       "\n",
       "    function displayChart(vegaEmbed) {\n",
       "      vegaEmbed(outputDiv, spec, embedOpt)\n",
       "        .catch(err => showError(`Javascript Error: ${err.message}<br>This usually means there's a typo in your chart specification. See the javascript console for the full traceback.`));\n",
       "    }\n",
       "\n",
       "    if(typeof define === \"function\" && define.amd) {\n",
       "      requirejs.config({paths});\n",
       "      require([\"vega-embed\"], displayChart, err => showError(`Error loading script: ${err.message}`));\n",
       "    } else {\n",
       "      maybeLoadScript(\"vega\", \"5\")\n",
       "        .then(() => maybeLoadScript(\"vega-lite\", \"5.20.1\"))\n",
       "        .then(() => maybeLoadScript(\"vega-embed\", \"6\"))\n",
       "        .catch(showError)\n",
       "        .then(() => displayChart(vegaEmbed));\n",
       "    }\n",
       "  })({\"config\": {\"view\": {\"continuousWidth\": 300, \"continuousHeight\": 300}}, \"data\": {\"name\": \"data-797a690f0ba007287d93d52e4dd2e4a9\"}, \"mark\": {\"type\": \"circle\"}, \"encoding\": {\"color\": {\"condition\": {\"test\": \"(datum.\\uad6c\\ub2e8 === '\\uc778\\ucc9c')\", \"value\": \"blue\"}, \"value\": \"lightgray\"}, \"x\": {\"field\": \"\\uacbd\\ud569 \\uacf5\\uc911 \\uc131\\uacf5%\", \"scale\": {\"domain\": [40, 60]}, \"type\": \"quantitative\"}, \"y\": {\"field\": \"header_per_match\", \"scale\": {\"domain\": [25, 40]}, \"type\": \"quantitative\"}}, \"height\": 600, \"width\": 800, \"$schema\": \"https://vega.github.io/schema/vega-lite/v5.20.1.json\", \"datasets\": {\"data-797a690f0ba007287d93d52e4dd2e4a9\": [{\"\\uad6c\\ub2e8\": \"\\uac15\\uc6d0\", \"\\uacbd\\ud569 \\uacf5\\uc911 \\uc2dc\\ub3c4\": 961, \"\\uacbd\\ud569 \\uacf5\\uc911 \\uc131\\uacf5\": 500, \"\\uacbd\\ud569 \\uacf5\\uc911 \\uc131\\uacf5%\": 52.0, \"match\": 33, \"header_per_match\": 29.12121212121212}, {\"\\uad6c\\ub2e8\": \"\\uad11\\uc8fc\", \"\\uacbd\\ud569 \\uacf5\\uc911 \\uc2dc\\ub3c4\": 938, \"\\uacbd\\ud569 \\uacf5\\uc911 \\uc131\\uacf5\": 488, \"\\uacbd\\ud569 \\uacf5\\uc911 \\uc131\\uacf5%\": 52.0, \"match\": 33, \"header_per_match\": 28.424242424242426}, {\"\\uad6c\\ub2e8\": \"\\uae40\\ucc9c\", \"\\uacbd\\ud569 \\uacf5\\uc911 \\uc2dc\\ub3c4\": 1112, \"\\uacbd\\ud569 \\uacf5\\uc911 \\uc131\\uacf5\": 496, \"\\uacbd\\ud569 \\uacf5\\uc911 \\uc131\\uacf5%\": 44.6, \"match\": 33, \"header_per_match\": 33.696969696969695}, {\"\\uad6c\\ub2e8\": \"\\ub300\\uad6c\", \"\\uacbd\\ud569 \\uacf5\\uc911 \\uc2dc\\ub3c4\": 1075, \"\\uacbd\\ud569 \\uacf5\\uc911 \\uc131\\uacf5\": 559, \"\\uacbd\\ud569 \\uacf5\\uc911 \\uc131\\uacf5%\": 52.0, \"match\": 33, \"header_per_match\": 32.57575757575758}, {\"\\uad6c\\ub2e8\": \"\\ub300\\uc804\", \"\\uacbd\\ud569 \\uacf5\\uc911 \\uc2dc\\ub3c4\": 1278, \"\\uacbd\\ud569 \\uacf5\\uc911 \\uc131\\uacf5\": 618, \"\\uacbd\\ud569 \\uacf5\\uc911 \\uc131\\uacf5%\": 48.4, \"match\": 33, \"header_per_match\": 38.72727272727273}, {\"\\uad6c\\ub2e8\": \"\\uc11c\\uc6b8\", \"\\uacbd\\ud569 \\uacf5\\uc911 \\uc2dc\\ub3c4\": 1045, \"\\uacbd\\ud569 \\uacf5\\uc911 \\uc131\\uacf5\": 520, \"\\uacbd\\ud569 \\uacf5\\uc911 \\uc131\\uacf5%\": 49.8, \"match\": 33, \"header_per_match\": 31.666666666666668}, {\"\\uad6c\\ub2e8\": \"\\uc218\\uc6d0FC\", \"\\uacbd\\ud569 \\uacf5\\uc911 \\uc2dc\\ub3c4\": 992, \"\\uacbd\\ud569 \\uacf5\\uc911 \\uc131\\uacf5\": 499, \"\\uacbd\\ud569 \\uacf5\\uc911 \\uc131\\uacf5%\": 50.3, \"match\": 33, \"header_per_match\": 30.060606060606062}, {\"\\uad6c\\ub2e8\": \"\\uc6b8\\uc0b0\", \"\\uacbd\\ud569 \\uacf5\\uc911 \\uc2dc\\ub3c4\": 1008, \"\\uacbd\\ud569 \\uacf5\\uc911 \\uc131\\uacf5\": 489, \"\\uacbd\\ud569 \\uacf5\\uc911 \\uc131\\uacf5%\": 48.5, \"match\": 33, \"header_per_match\": 30.545454545454547}, {\"\\uad6c\\ub2e8\": \"\\uc778\\ucc9c\", \"\\uacbd\\ud569 \\uacf5\\uc911 \\uc2dc\\ub3c4\": 1054, \"\\uacbd\\ud569 \\uacf5\\uc911 \\uc131\\uacf5\": 553, \"\\uacbd\\ud569 \\uacf5\\uc911 \\uc131\\uacf5%\": 52.5, \"match\": 33, \"header_per_match\": 31.939393939393938}, {\"\\uad6c\\ub2e8\": \"\\uc804\\ubd81\", \"\\uacbd\\ud569 \\uacf5\\uc911 \\uc2dc\\ub3c4\": 1055, \"\\uacbd\\ud569 \\uacf5\\uc911 \\uc131\\uacf5\": 527, \"\\uacbd\\ud569 \\uacf5\\uc911 \\uc131\\uacf5%\": 50.0, \"match\": 33, \"header_per_match\": 31.96969696969697}, {\"\\uad6c\\ub2e8\": \"\\uc81c\\uc8fc\", \"\\uacbd\\ud569 \\uacf5\\uc911 \\uc2dc\\ub3c4\": 1269, \"\\uacbd\\ud569 \\uacf5\\uc911 \\uc131\\uacf5\": 630, \"\\uacbd\\ud569 \\uacf5\\uc911 \\uc131\\uacf5%\": 49.6, \"match\": 33, \"header_per_match\": 38.45454545454545}, {\"\\uad6c\\ub2e8\": \"\\ud3ec\\ud56d\", \"\\uacbd\\ud569 \\uacf5\\uc911 \\uc2dc\\ub3c4\": 1007, \"\\uacbd\\ud569 \\uacf5\\uc911 \\uc131\\uacf5\": 518, \"\\uacbd\\ud569 \\uacf5\\uc911 \\uc131\\uacf5%\": 51.4, \"match\": 33, \"header_per_match\": 30.515151515151516}]}}, {\"mode\": \"vega-lite\"});\n",
       "</script>"
      ],
      "text/plain": [
       "alt.Chart(...)"
      ]
     },
     "execution_count": 44,
     "metadata": {},
     "output_type": "execute_result"
    }
   ],
   "source": [
    "(\n",
    "    alt.\n",
    "    Chart(aerial).\n",
    "    encode(\n",
    "        x = alt.X('경합 공중 성공%').scale(domain=[40, 60]),\n",
    "        y = alt.Y('header_per_match').scale(domain = [25, 40]),\n",
    "        color = alt.condition(\n",
    "            alt.datum.구단 =='인천',\n",
    "            alt.value('blue'),\n",
    "            alt.value('lightgray')\n",
    "        )\n",
    "        \n",
    "    ).\n",
    "    mark_circle()\n",
    ").properties(\n",
    "    width = 800,\n",
    "    height = 600\n",
    ")"
   ]
  },
  {
   "cell_type": "code",
   "execution_count": null,
   "metadata": {},
   "outputs": [],
   "source": []
  }
 ],
 "metadata": {
  "kernelspec": {
   "display_name": "myenv",
   "language": "python",
   "name": "python3"
  },
  "language_info": {
   "codemirror_mode": {
    "name": "ipython",
    "version": 3
   },
   "file_extension": ".py",
   "mimetype": "text/x-python",
   "name": "python",
   "nbconvert_exporter": "python",
   "pygments_lexer": "ipython3",
   "version": "3.12.5"
  }
 },
 "nbformat": 4,
 "nbformat_minor": 2
}
